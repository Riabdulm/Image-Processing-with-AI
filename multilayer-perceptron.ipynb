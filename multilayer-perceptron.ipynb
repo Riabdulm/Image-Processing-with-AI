{
 "cells": [
  {
   "cell_type": "markdown",
   "id": "fa6a1274",
   "metadata": {
    "papermill": {
     "duration": 0.009309,
     "end_time": "2022-11-08T21:19:44.979417",
     "exception": false,
     "start_time": "2022-11-08T21:19:44.970108",
     "status": "completed"
    },
    "tags": []
   },
   "source": [
    "**Importation of needed Libraries**"
   ]
  },
  {
   "cell_type": "code",
   "execution_count": 1,
   "id": "594931c6",
   "metadata": {
    "execution": {
     "iopub.execute_input": "2022-11-08T21:19:44.999044Z",
     "iopub.status.busy": "2022-11-08T21:19:44.998571Z",
     "iopub.status.idle": "2022-11-08T21:19:46.051049Z",
     "shell.execute_reply": "2022-11-08T21:19:46.050222Z"
    },
    "papermill": {
     "duration": 1.06595,
     "end_time": "2022-11-08T21:19:46.053933",
     "exception": false,
     "start_time": "2022-11-08T21:19:44.987983",
     "status": "completed"
    },
    "tags": []
   },
   "outputs": [
    {
     "name": "stdout",
     "output_type": "stream",
     "text": [
      "Automatically created module for IPython interactive environment\n"
     ]
    }
   ],
   "source": [
    "from time import time\n",
    "import logging\n",
    "import matplotlib.pyplot as plt\n",
    "\n",
    "from sklearn.model_selection import train_test_split\n",
    "from sklearn.model_selection import GridSearchCV\n",
    "from sklearn.datasets import fetch_lfw_people\n",
    "from sklearn.metrics import classification_report\n",
    "from sklearn.metrics import confusion_matrix\n",
    "from sklearn.decomposition import PCA\n",
    "from sklearn.svm import SVC\n",
    "\n",
    "print(__doc__)\n",
    "\n",
    "# Display progress logs on stdout\n",
    "logging.basicConfig(level=logging.INFO, format='%(asctime)s %(message)s')"
   ]
  },
  {
   "cell_type": "markdown",
   "id": "06831a62",
   "metadata": {
    "papermill": {
     "duration": 0.004278,
     "end_time": "2022-11-08T21:19:46.062607",
     "exception": false,
     "start_time": "2022-11-08T21:19:46.058329",
     "status": "completed"
    },
    "tags": []
   },
   "source": [
    "**Dataset Importaion and Processing**\n",
    "\n",
    "The dataset - lfw_people were imported from sklearn.datasets. The label to predict is the identity of the individuals in the image (image recognition)."
   ]
  },
  {
   "cell_type": "code",
   "execution_count": 2,
   "id": "9aded712",
   "metadata": {
    "execution": {
     "iopub.execute_input": "2022-11-08T21:19:46.072268Z",
     "iopub.status.busy": "2022-11-08T21:19:46.071901Z",
     "iopub.status.idle": "2022-11-08T21:20:10.662394Z",
     "shell.execute_reply": "2022-11-08T21:20:10.661554Z"
    },
    "papermill": {
     "duration": 24.611338,
     "end_time": "2022-11-08T21:20:10.677943",
     "exception": false,
     "start_time": "2022-11-08T21:19:46.066605",
     "status": "completed"
    },
    "tags": []
   },
   "outputs": [
    {
     "name": "stdout",
     "output_type": "stream",
     "text": [
      "Total dataset size:\n",
      "n_samples: 1288\n",
      "n_features: 1850\n",
      "n_classes: 7\n"
     ]
    }
   ],
   "source": [
    "# Downloading and loading the dataset as numpy arrays\n",
    "lfw_people = fetch_lfw_people(min_faces_per_person=70, resize=0.4)\n",
    "\n",
    "\n",
    "# introspect the images arrays to find the shapes (for plotting)\n",
    "n_samples, h, w = lfw_people.images.shape\n",
    "\n",
    "# for machine learning we use the 2 data directly (as relative pixel positions info is ignored by this model)\n",
    "X = lfw_people.data\n",
    "n_features = X.shape[1]\n",
    "\n",
    "# the label to predict is the id of the person\n",
    "y = lfw_people.target\n",
    "target_names = lfw_people.target_names\n",
    "n_classes = target_names.shape[0]\n",
    "\n",
    "print(\"Total dataset size:\")\n",
    "print(\"n_samples: %d\" % n_samples)\n",
    "print(\"n_features: %d\" % n_features)\n",
    "print(\"n_classes: %d\" % n_classes)"
   ]
  },
  {
   "cell_type": "markdown",
   "id": "b559e4c7",
   "metadata": {
    "papermill": {
     "duration": 0.004554,
     "end_time": "2022-11-08T21:20:10.688629",
     "exception": false,
     "start_time": "2022-11-08T21:20:10.684075",
     "status": "completed"
    },
    "tags": []
   },
   "source": [
    "**Splitting data into a training set and a test set with test_size of 25%, and printing the resulting input variables X**"
   ]
  },
  {
   "cell_type": "code",
   "execution_count": 3,
   "id": "4fd9c67b",
   "metadata": {
    "execution": {
     "iopub.execute_input": "2022-11-08T21:20:10.699987Z",
     "iopub.status.busy": "2022-11-08T21:20:10.699608Z",
     "iopub.status.idle": "2022-11-08T21:20:10.713102Z",
     "shell.execute_reply": "2022-11-08T21:20:10.712131Z"
    },
    "papermill": {
     "duration": 0.02223,
     "end_time": "2022-11-08T21:20:10.715627",
     "exception": false,
     "start_time": "2022-11-08T21:20:10.693397",
     "status": "completed"
    },
    "tags": []
   },
   "outputs": [
    {
     "name": "stdout",
     "output_type": "stream",
     "text": [
      "(322, 1850)\n",
      "(966, 1850)\n"
     ]
    }
   ],
   "source": [
    "# split into a training and testing set\n",
    "X_train, X_test, y_train, y_test = train_test_split(X, y, test_size=0.25, random_state=42)\n",
    "\n",
    "print(X_test.shape)\n",
    "print(X_train.shape)"
   ]
  },
  {
   "cell_type": "markdown",
   "id": "ef9fca99",
   "metadata": {
    "papermill": {
     "duration": 0.004512,
     "end_time": "2022-11-08T21:20:10.725931",
     "exception": false,
     "start_time": "2022-11-08T21:20:10.721419",
     "status": "completed"
    },
    "tags": []
   },
   "source": [
    "**Setting parameters for the learner (Multilayer Perceptron) with PCA. Note: For MLP, when PCA wasn’t applied, the model was only given precision, recall and accuracy results for George Bush.**"
   ]
  },
  {
   "cell_type": "code",
   "execution_count": 4,
   "id": "6cc1f399",
   "metadata": {
    "execution": {
     "iopub.execute_input": "2022-11-08T21:20:10.736472Z",
     "iopub.status.busy": "2022-11-08T21:20:10.736107Z",
     "iopub.status.idle": "2022-11-08T21:20:11.025791Z",
     "shell.execute_reply": "2022-11-08T21:20:11.024892Z"
    },
    "papermill": {
     "duration": 0.299412,
     "end_time": "2022-11-08T21:20:11.029465",
     "exception": false,
     "start_time": "2022-11-08T21:20:10.730053",
     "status": "completed"
    },
    "tags": []
   },
   "outputs": [
    {
     "name": "stdout",
     "output_type": "stream",
     "text": [
      "Extracting the top 150 eigenfaces from 966 faces\n",
      "done in 0.267s\n",
      "Projecting the input data on the eigenfaces orthonormal basis\n",
      "done in 0.015s\n"
     ]
    }
   ],
   "source": [
    "#Feature extraction / dimensionality reduction\n",
    "\n",
    "n_components = 150\n",
    "\n",
    "print(\"Extracting the top %d eigenfaces from %d faces\"\n",
    "      % (n_components, X_train.shape[0]))\n",
    "t0 = time()\n",
    "\n",
    "pca = PCA(n_components=n_components, svd_solver='randomized',\n",
    "          whiten=True).fit(X_train)\n",
    "\n",
    "print(\"done in %0.3fs\" % (time() - t0))\n",
    "\n",
    "eigenfaces = pca.components_.reshape((n_components, h, w))\n",
    "\n",
    "print(\"Projecting the input data on the eigenfaces orthonormal basis\")\n",
    "\n",
    "t0 = time()\n",
    "\n",
    "X_train_pca = pca.transform(X_train)\n",
    "X_test_pca = pca.transform(X_test)\n",
    "\n",
    "print(\"done in %0.3fs\" % (time() - t0))"
   ]
  },
  {
   "cell_type": "markdown",
   "id": "89b13c09",
   "metadata": {
    "papermill": {
     "duration": 0.023575,
     "end_time": "2022-11-08T21:20:11.072569",
     "exception": false,
     "start_time": "2022-11-08T21:20:11.048994",
     "status": "completed"
    },
    "tags": []
   },
   "source": [
    "**Printing the reduced input variables X**"
   ]
  },
  {
   "cell_type": "code",
   "execution_count": 5,
   "id": "e4f07dae",
   "metadata": {
    "execution": {
     "iopub.execute_input": "2022-11-08T21:20:11.127624Z",
     "iopub.status.busy": "2022-11-08T21:20:11.126916Z",
     "iopub.status.idle": "2022-11-08T21:20:11.133186Z",
     "shell.execute_reply": "2022-11-08T21:20:11.132444Z"
    },
    "papermill": {
     "duration": 0.032498,
     "end_time": "2022-11-08T21:20:11.136954",
     "exception": false,
     "start_time": "2022-11-08T21:20:11.104456",
     "status": "completed"
    },
    "tags": []
   },
   "outputs": [
    {
     "name": "stdout",
     "output_type": "stream",
     "text": [
      "(322, 150)\n",
      "(966, 150)\n"
     ]
    }
   ],
   "source": [
    "print(X_test_pca.shape)\n",
    "\n",
    "print(X_train_pca.shape)"
   ]
  },
  {
   "cell_type": "markdown",
   "id": "98043965",
   "metadata": {
    "papermill": {
     "duration": 0.009724,
     "end_time": "2022-11-08T21:20:11.157993",
     "exception": false,
     "start_time": "2022-11-08T21:20:11.148269",
     "status": "completed"
    },
    "tags": []
   },
   "source": [
    "**Setting parameters for the learner (Multilayer Perceptron - MLP) and fitting the model**"
   ]
  },
  {
   "cell_type": "code",
   "execution_count": 6,
   "id": "b9c96ec8",
   "metadata": {
    "execution": {
     "iopub.execute_input": "2022-11-08T21:20:11.167803Z",
     "iopub.status.busy": "2022-11-08T21:20:11.167518Z",
     "iopub.status.idle": "2022-11-08T21:20:13.283931Z",
     "shell.execute_reply": "2022-11-08T21:20:13.282975Z"
    },
    "papermill": {
     "duration": 2.127396,
     "end_time": "2022-11-08T21:20:13.289598",
     "exception": false,
     "start_time": "2022-11-08T21:20:11.162202",
     "status": "completed"
    },
    "tags": []
   },
   "outputs": [
    {
     "name": "stdout",
     "output_type": "stream",
     "text": [
      "done in 2.104s\n"
     ]
    }
   ],
   "source": [
    "#Calling needed libraries\n",
    "from sklearn.neural_network import MLPClassifier\n",
    "from sklearn.datasets import make_classification\n",
    "from sklearn.model_selection import train_test_split\n",
    "import sklearn.neural_network as nn\n",
    "import sklearn.model_selection as ms\n",
    "\n",
    "t = time()    #to check convergence time\n",
    "\n",
    "mlp_model = nn.MLPClassifier(hidden_layer_sizes=(15,10), max_iter=2000)       #The hidden is set as (15,10) as this corresponds to the number of input in the dataset (150).\n",
    "\n",
    "mlp_model.fit(X_train_pca, y_train)\n",
    "\n",
    "print(\"done in %0.3fs\" % (time() - t))"
   ]
  },
  {
   "cell_type": "markdown",
   "id": "817aa9eb",
   "metadata": {
    "papermill": {
     "duration": 0.010899,
     "end_time": "2022-11-08T21:20:13.312581",
     "exception": false,
     "start_time": "2022-11-08T21:20:13.301682",
     "status": "completed"
    },
    "tags": []
   },
   "source": [
    "**Quantitative evaluation of the model quality on the test set**"
   ]
  },
  {
   "cell_type": "code",
   "execution_count": 7,
   "id": "bb5bc393",
   "metadata": {
    "execution": {
     "iopub.execute_input": "2022-11-08T21:20:13.337361Z",
     "iopub.status.busy": "2022-11-08T21:20:13.336564Z",
     "iopub.status.idle": "2022-11-08T21:20:13.359445Z",
     "shell.execute_reply": "2022-11-08T21:20:13.358631Z"
    },
    "papermill": {
     "duration": 0.038901,
     "end_time": "2022-11-08T21:20:13.362748",
     "exception": false,
     "start_time": "2022-11-08T21:20:13.323847",
     "status": "completed"
    },
    "tags": []
   },
   "outputs": [
    {
     "name": "stdout",
     "output_type": "stream",
     "text": [
      "Predicting people's names on the test set\n",
      "done in 0.004s\n",
      "                   precision    recall  f1-score   support\n",
      "\n",
      "     Ariel Sharon       0.56      0.38      0.45        13\n",
      "     Colin Powell       0.74      0.85      0.79        60\n",
      "  Donald Rumsfeld       0.62      0.74      0.68        27\n",
      "    George W Bush       0.92      0.83      0.87       146\n",
      "Gerhard Schroeder       0.48      0.60      0.54        25\n",
      "      Hugo Chavez       0.64      0.60      0.62        15\n",
      "       Tony Blair       0.74      0.72      0.73        36\n",
      "\n",
      "         accuracy                           0.77       322\n",
      "        macro avg       0.67      0.68      0.67       322\n",
      "     weighted avg       0.78      0.77      0.77       322\n",
      "\n",
      "[[  5   2   4   0   1   0   1]\n",
      " [  1  51   3   4   0   1   0]\n",
      " [  2   0  20   2   1   2   0]\n",
      " [  1   8   4 121   8   0   4]\n",
      " [  0   3   0   4  15   1   2]\n",
      " [  0   2   0   0   2   9   2]\n",
      " [  0   3   1   1   4   1  26]]\n"
     ]
    }
   ],
   "source": [
    "print(\"Predicting people's names on the test set\")\n",
    "\n",
    "t0 = time()\n",
    "\n",
    "y_pred = mlp_model.predict(X_test_pca)\n",
    "\n",
    "print(\"done in %0.3fs\" % (time() - t0))\n",
    "\n",
    "print(classification_report(y_test, y_pred, target_names=target_names))\n",
    "print(confusion_matrix(y_test, y_pred, labels=range(n_classes)))"
   ]
  },
  {
   "cell_type": "markdown",
   "id": "26c407f0",
   "metadata": {
    "papermill": {
     "duration": 0.010814,
     "end_time": "2022-11-08T21:20:13.386381",
     "exception": false,
     "start_time": "2022-11-08T21:20:13.375567",
     "status": "completed"
    },
    "tags": []
   },
   "source": [
    "> **Result: With the chosen parameters in the Multilayer Perceptron, we have an accuracy of 77%.**"
   ]
  },
  {
   "cell_type": "markdown",
   "id": "8a526580",
   "metadata": {
    "papermill": {
     "duration": 0.01079,
     "end_time": "2022-11-08T21:20:13.408832",
     "exception": false,
     "start_time": "2022-11-08T21:20:13.398042",
     "status": "completed"
    },
    "tags": []
   },
   "source": [
    "**Finding the optimal number of hidden_layers using hyper parameter**"
   ]
  },
  {
   "cell_type": "code",
   "execution_count": 8,
   "id": "c276c08e",
   "metadata": {
    "execution": {
     "iopub.execute_input": "2022-11-08T21:20:13.433393Z",
     "iopub.status.busy": "2022-11-08T21:20:13.432452Z",
     "iopub.status.idle": "2022-11-08T21:20:40.219955Z",
     "shell.execute_reply": "2022-11-08T21:20:40.219144Z"
    },
    "papermill": {
     "duration": 26.805223,
     "end_time": "2022-11-08T21:20:40.224990",
     "exception": false,
     "start_time": "2022-11-08T21:20:13.419767",
     "status": "completed"
    },
    "tags": []
   },
   "outputs": [
    {
     "name": "stdout",
     "output_type": "stream",
     "text": [
      "done in 29.037s\n",
      "MLPClassifier(hidden_layer_sizes=(30, 20), max_iter=2000)\n"
     ]
    }
   ],
   "source": [
    "t0 = time()\n",
    "\n",
    "param_grid = {'hidden_layer_sizes': [(15,10), (20,15), (30,20)], \n",
    "             }\n",
    "\n",
    "mlp_model = GridSearchCV(\n",
    "    nn.MLPClassifier(max_iter=2000), param_grid\n",
    ")\n",
    "\n",
    "mlp_model.fit(X_train_pca, y_train)\n",
    "\n",
    "print(\"done in %0.3fs\" % (time() - t))\n",
    "\n",
    "print(mlp_model.best_estimator_)"
   ]
  },
  {
   "cell_type": "markdown",
   "id": "99652abd",
   "metadata": {
    "papermill": {
     "duration": 0.010852,
     "end_time": "2022-11-08T21:20:40.247897",
     "exception": false,
     "start_time": "2022-11-08T21:20:40.237045",
     "status": "completed"
    },
    "tags": []
   },
   "source": [
    "**Quantitative evaluation of the model quality with hyper-parameters on the test set**"
   ]
  },
  {
   "cell_type": "code",
   "execution_count": 9,
   "id": "899f4258",
   "metadata": {
    "execution": {
     "iopub.execute_input": "2022-11-08T21:20:40.271699Z",
     "iopub.status.busy": "2022-11-08T21:20:40.271167Z",
     "iopub.status.idle": "2022-11-08T21:20:40.290900Z",
     "shell.execute_reply": "2022-11-08T21:20:40.290120Z"
    },
    "papermill": {
     "duration": 0.036535,
     "end_time": "2022-11-08T21:20:40.295530",
     "exception": false,
     "start_time": "2022-11-08T21:20:40.258995",
     "status": "completed"
    },
    "tags": []
   },
   "outputs": [
    {
     "name": "stdout",
     "output_type": "stream",
     "text": [
      "Predicting people's names on the test set\n",
      "done in 0.003s\n",
      "                   precision    recall  f1-score   support\n",
      "\n",
      "     Ariel Sharon       0.36      0.31      0.33        13\n",
      "     Colin Powell       0.75      0.78      0.76        60\n",
      "  Donald Rumsfeld       0.62      0.74      0.68        27\n",
      "    George W Bush       0.86      0.86      0.86       146\n",
      "Gerhard Schroeder       0.67      0.72      0.69        25\n",
      "      Hugo Chavez       0.69      0.60      0.64        15\n",
      "       Tony Blair       0.87      0.72      0.79        36\n",
      "\n",
      "         accuracy                           0.78       322\n",
      "        macro avg       0.69      0.68      0.68       322\n",
      "     weighted avg       0.78      0.78      0.78       322\n",
      "\n",
      "[[  4   4   2   2   0   1   0]\n",
      " [  2  47   4   5   0   1   1]\n",
      " [  1   2  20   1   2   0   1]\n",
      " [  1   9   4 126   4   1   1]\n",
      " [  2   0   0   4  18   1   0]\n",
      " [  0   1   0   3   1   9   1]\n",
      " [  1   0   2   5   2   0  26]]\n"
     ]
    }
   ],
   "source": [
    "print(\"Predicting people's names on the test set\")\n",
    "\n",
    "t0 = time()\n",
    "y_pred = mlp_model.predict(X_test_pca)\n",
    "\n",
    "print(\"done in %0.3fs\" % (time() - t0))\n",
    "\n",
    "print(classification_report(y_test, y_pred, target_names=target_names))\n",
    "print(confusion_matrix(y_test, y_pred, labels=range(n_classes)))"
   ]
  },
  {
   "cell_type": "markdown",
   "id": "09a8cbfe",
   "metadata": {
    "papermill": {
     "duration": 0.012126,
     "end_time": "2022-11-08T21:20:40.320089",
     "exception": false,
     "start_time": "2022-11-08T21:20:40.307963",
     "status": "completed"
    },
    "tags": []
   },
   "source": [
    "> **With the hidden_layer increasing to (30, 20) after the application of hyper-parameters, the accuracy of the results also increased to 78%. This shows that the optimal level of the hidder_layer is (30, 20)**"
   ]
  },
  {
   "cell_type": "markdown",
   "id": "b1e09098",
   "metadata": {
    "papermill": {
     "duration": 0.011547,
     "end_time": "2022-11-08T21:20:40.343846",
     "exception": false,
     "start_time": "2022-11-08T21:20:40.332299",
     "status": "completed"
    },
    "tags": []
   },
   "source": [
    "**Comparison of results MLP and Random Forest**\n",
    "\n",
    "**Comparing Results without PCA:**\n",
    "Random forest produced an accuracy of 63% without the application of PCA on the datasets. For MLP, when PCA wasn’t applied, the model was only given precision, recall and accuracy results for George Bush.\n",
    "\n",
    "**Comparing Results with PCA:**\n",
    "With the application of PCA in both Random Forest and MLP, random forest had an accuracy of 57%, and MLP produced an accuracy of 77%. In fact, when hyper-parameter was applied on MLP, the accuracy increased to 78%.\n",
    "\n",
    "**Conclusion:**\n",
    "Overall, this shows that MLP performed better than Random Forest in image recognition of the datasets given."
   ]
  },
  {
   "cell_type": "markdown",
   "id": "5c7317ef",
   "metadata": {
    "papermill": {
     "duration": 0.011918,
     "end_time": "2022-11-08T21:20:40.367857",
     "exception": false,
     "start_time": "2022-11-08T21:20:40.355939",
     "status": "completed"
    },
    "tags": []
   },
   "source": []
  }
 ],
 "metadata": {
  "kernelspec": {
   "display_name": "Python 3",
   "language": "python",
   "name": "python3"
  },
  "language_info": {
   "codemirror_mode": {
    "name": "ipython",
    "version": 3
   },
   "file_extension": ".py",
   "mimetype": "text/x-python",
   "name": "python",
   "nbconvert_exporter": "python",
   "pygments_lexer": "ipython3",
   "version": "3.7.12"
  },
  "papermill": {
   "default_parameters": {},
   "duration": 63.826837,
   "end_time": "2022-11-08T21:20:40.900938",
   "environment_variables": {},
   "exception": null,
   "input_path": "__notebook__.ipynb",
   "output_path": "__notebook__.ipynb",
   "parameters": {},
   "start_time": "2022-11-08T21:19:37.074101",
   "version": "2.3.4"
  }
 },
 "nbformat": 4,
 "nbformat_minor": 5
}
